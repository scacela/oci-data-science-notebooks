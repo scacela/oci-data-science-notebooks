{
 "cells": [
  {
   "cell_type": "markdown",
   "id": "4dd7e6ac",
   "metadata": {},
   "source": [
    "### OCI Data Science - Useful Tips\n",
    "<details>\n",
    "<summary><font size=\"2\">Check for Public Internet Access</font></summary>\n",
    "\n",
    "```python\n",
    "import requests\n",
    "response = requests.get(\"https://oracle.com\")\n",
    "assert response.status_code==200, \"Internet connection failed\"\n",
    "```\n",
    "</details>\n",
    "<details>\n",
    "<summary><font size=\"2\">Helpful Documentation </font></summary>\n",
    "<ul><li><a href=\"https://docs.cloud.oracle.com/en-us/iaas/data-science/using/data-science.htm\">Data Science Service Documentation</a></li>\n",
    "<li><a href=\"https://docs.cloud.oracle.com/iaas/tools/ads-sdk/latest/index.html\">ADS documentation</a></li>\n",
    "</ul>\n",
    "</details>\n",
    "<details>\n",
    "<summary><font size=\"2\">Typical Cell Imports and Settings for ADS</font></summary>\n",
    "\n",
    "```python\n",
    "%load_ext autoreload\n",
    "%autoreload 2\n",
    "%matplotlib inline\n",
    "\n",
    "import warnings\n",
    "warnings.filterwarnings('ignore')\n",
    "\n",
    "import logging\n",
    "logging.basicConfig(format='%(levelname)s:%(message)s', level=logging.ERROR)\n",
    "\n",
    "import ads\n",
    "from ads.dataset.factory import DatasetFactory\n",
    "from ads.automl.provider import OracleAutoMLProvider\n",
    "from ads.automl.driver import AutoML\n",
    "from ads.evaluations.evaluator import ADSEvaluator\n",
    "from ads.common.data import ADSData\n",
    "from ads.explanations.explainer import ADSExplainer\n",
    "from ads.explanations.mlx_global_explainer import MLXGlobalExplainer\n",
    "from ads.explanations.mlx_local_explainer import MLXLocalExplainer\n",
    "from ads.catalog.model import ModelCatalog\n",
    "from ads.common.model_artifact import ModelArtifact\n",
    "```\n",
    "</details>\n",
    "<details>\n",
    "<summary><font size=\"2\">Useful Environment Variables</font></summary>\n",
    "\n",
    "```python\n",
    "import os\n",
    "print(os.environ[\"NB_SESSION_COMPARTMENT_OCID\"])\n",
    "print(os.environ[\"PROJECT_OCID\"])\n",
    "print(os.environ[\"USER_OCID\"])\n",
    "print(os.environ[\"TENANCY_OCID\"])\n",
    "print(os.environ[\"NB_REGION\"])\n",
    "```\n",
    "</details>"
   ]
  },
  {
   "cell_type": "markdown",
   "id": "79c2a219",
   "metadata": {},
   "source": [
    "### Ensure correct package versions"
   ]
  },
  {
   "cell_type": "code",
   "execution_count": null,
   "id": "9ee60c71",
   "metadata": {},
   "outputs": [],
   "source": [
    "!pip show oci"
   ]
  },
  {
   "cell_type": "code",
   "execution_count": null,
   "id": "4706c68a",
   "metadata": {},
   "outputs": [],
   "source": [
    "!pip install oci -U"
   ]
  },
  {
   "cell_type": "code",
   "execution_count": null,
   "id": "35eadcb4",
   "metadata": {},
   "outputs": [],
   "source": [
    "!pip show oci-cli"
   ]
  },
  {
   "cell_type": "code",
   "execution_count": null,
   "id": "2fa07c82",
   "metadata": {},
   "outputs": [],
   "source": [
    "!pip install oci-cli -U"
   ]
  },
  {
   "cell_type": "code",
   "execution_count": null,
   "id": "630928d0",
   "metadata": {},
   "outputs": [],
   "source": [
    "!pip install oracle-ads -U"
   ]
  },
  {
   "cell_type": "code",
   "execution_count": null,
   "id": "3e11dae4",
   "metadata": {},
   "outputs": [],
   "source": [
    "import os\n",
    "import ads"
   ]
  },
  {
   "cell_type": "code",
   "execution_count": null,
   "id": "2682c72e",
   "metadata": {},
   "outputs": [],
   "source": [
    "ads.hello()"
   ]
  },
  {
   "cell_type": "markdown",
   "id": "27228e8c",
   "metadata": {},
   "source": [
    "### Set parameters for API call"
   ]
  },
  {
   "cell_type": "code",
   "execution_count": null,
   "id": "f02ba231",
   "metadata": {},
   "outputs": [],
   "source": [
    "# input_object_storage_namespace_name=\n",
    "# output_object_storage_namespace_name=\n",
    "# input_bucket_name=\n",
    "# output_bucket_name=input_bucket_name\n",
    "# output_object_storage_prefix=\"Document_Analysis\"\n",
    "# object_name=\n",
    "# compartment_id=os.environ[\"NB_SESSION_COMPARTMENT_OCID\"]\n",
    "# display_name=\"document_analysis_processor_job\"\n",
    "# language=\"en\"\n",
    "# opc_retry_token=None\n",
    "# opc_request_id=None\n",
    "# document_type=\"BANK_STATEMENT\""
   ]
  },
  {
   "cell_type": "code",
   "execution_count": null,
   "id": "fae9b79a",
   "metadata": {},
   "outputs": [],
   "source": [
    "input_object_storage_namespace_name=\n",
    "output_object_storage_namespace_name=input_object_storage_namespace_name\n",
    "input_bucket_name=\n",
    "output_bucket_name=input_bucket_name\n",
    "output_object_storage_prefix=\"Document_Analysis\"\n",
    "object_name=\n",
    "compartment_id=os.environ[\"NB_SESSION_COMPARTMENT_OCID\"]\n",
    "display_name=\"document_analysis_processor_job\"\n",
    "language=\"en\"\n",
    "opc_retry_token=None\n",
    "opc_request_id=None\n",
    "document_type=\"BANK_STATEMENT\""
   ]
  },
  {
   "cell_type": "markdown",
   "id": "238ebee2",
   "metadata": {},
   "source": [
    "### API call for generating document analysis"
   ]
  },
  {
   "cell_type": "code",
   "execution_count": null,
   "id": "b7296531",
   "metadata": {},
   "outputs": [],
   "source": [
    "# import oci\n",
    "\n",
    "# # Refer to\n",
    "# # https://docs.cloud.oracle.com/en-us/iaas/Content/API/Concepts/sdkconfig.htm#SDK_and_CLI_Configuration_File\n",
    "# # for more info\n",
    "# ads.set_auth(auth='resource_principal')\n",
    "# rps = oci.auth.signers.get_resource_principals_signer()\n",
    "\n",
    "# # Initialize service client with resource principal authentication\n",
    "# ai_document_client = oci.ai_document.AIServiceDocumentClient(config={}, signer=rps)\n",
    "\n",
    "\n",
    "# # Send the request to service, some parameters are not required, see API\n",
    "# # doc for more info\n",
    "# create_processor_job_response = ai_document_client.create_processor_job(\n",
    "#     create_processor_job_details=oci.ai_document.models.CreateProcessorJobDetails(\n",
    "#         input_location=oci.ai_document.models.ObjectStorageLocations(\n",
    "#             source_type=\"OBJECT_STORAGE_LOCATIONS\",\n",
    "#             object_locations=[\n",
    "#                 oci.ai_document.models.ObjectLocation(\n",
    "#                     namespace_name=input_object_storage_namespace_name,\n",
    "#                     bucket_name=input_bucket_name,\n",
    "#                     object_name=object_name)]),\n",
    "#         output_location=oci.ai_document.models.OutputLocation(\n",
    "#             namespace_name=output_object_storage_namespace_name,\n",
    "#             bucket_name=output_bucket_name,\n",
    "#             prefix=output_object_storage_prefix),\n",
    "#         compartment_id=compartment_id,\n",
    "#         processor_config=oci.ai_document.models.GeneralProcessorConfig(\n",
    "#             processor_type=\"GENERAL\",\n",
    "#             features=[oci.ai_document.models.DocumentTextExtractionFeature(\n",
    "#                     feature_type=\"LANGUAGE_CLASSIFICATION\",generate_searchable_pdf=True),\n",
    "#                      oci.ai_document.models.DocumentTextExtractionFeature(\n",
    "#                     feature_type=\"TABLE_EXTRACTION\",generate_searchable_pdf=True),\n",
    "#                      oci.ai_document.models.DocumentTextExtractionFeature(\n",
    "#                     feature_type=\"TEXT_EXTRACTION\",generate_searchable_pdf=True),\n",
    "#                      oci.ai_document.models.DocumentTextExtractionFeature(\n",
    "#                     feature_type=\"KEY_VALUE_EXTRACTION\",generate_searchable_pdf=True),\n",
    "#                      oci.ai_document.models.DocumentTextExtractionFeature(\n",
    "#                     feature_type=\"DOCUMENT_CLASSIFICATION\",generate_searchable_pdf=True)],\n",
    "#             document_type=document_type,\n",
    "#             is_zip_output_enabled=True,\n",
    "#             language=language),\n",
    "#         display_name=display_name),\n",
    "#     opc_retry_token=opc_retry_token,\n",
    "#     opc_request_id=opc_request_id)\n",
    "\n",
    "# # Get the data from response\n",
    "# print(create_processor_job_response.data)"
   ]
  },
  {
   "cell_type": "code",
   "execution_count": null,
   "id": "fb085794",
   "metadata": {},
   "outputs": [],
   "source": [
    "create_processor_job_id = create_processor_job_response.data.id"
   ]
  },
  {
   "cell_type": "markdown",
   "id": "346bc6b1",
   "metadata": {},
   "source": [
    "### Start here if document analysis has already completed and variables are no longer stored in memory"
   ]
  },
  {
   "cell_type": "code",
   "execution_count": null,
   "id": "7c3f9361",
   "metadata": {},
   "outputs": [],
   "source": [
    "# create_processor_job_id = # use create_processor_job_response.data.id from output of API call"
   ]
  },
  {
   "cell_type": "code",
   "execution_count": null,
   "id": "eee02771",
   "metadata": {},
   "outputs": [],
   "source": [
    "download_dir_list=!pwd\n",
    "download_dir=download_dir_list[0]"
   ]
  },
  {
   "cell_type": "code",
   "execution_count": null,
   "id": "df35a64b",
   "metadata": {},
   "outputs": [],
   "source": [
    "download_dir"
   ]
  },
  {
   "cell_type": "markdown",
   "id": "fea15efe",
   "metadata": {},
   "source": [
    "### OCI-CLI call for downloading the document analysis"
   ]
  },
  {
   "cell_type": "code",
   "execution_count": null,
   "id": "79a01bb7",
   "metadata": {},
   "outputs": [],
   "source": [
    "!oci --auth resource_principal os object bulk-download -bn {output_bucket_name} --overwrite --namespace {output_object_storage_namespace_name} --prefix {output_object_storage_prefix}/{create_processor_job_id} --download-dir {download_dir}\n"
   ]
  },
  {
   "cell_type": "markdown",
   "id": "d49eeecf",
   "metadata": {},
   "source": [
    "### Show where JSON analysis is"
   ]
  },
  {
   "cell_type": "code",
   "execution_count": null,
   "id": "2c4fa031",
   "metadata": {},
   "outputs": [],
   "source": [
    "json_path_list = !ls {download_dir}/{output_object_storage_prefix}/{create_processor_job_id}/{output_object_storage_namespace_name}_{output_bucket_name}/results/*.json\n",
    "json_path = json_path_list[0]"
   ]
  },
  {
   "cell_type": "code",
   "execution_count": null,
   "id": "69cc87c5",
   "metadata": {},
   "outputs": [],
   "source": [
    "json_path"
   ]
  },
  {
   "cell_type": "markdown",
   "id": "08f6ce09",
   "metadata": {},
   "source": [
    "### Define function\n",
    "#### Add empty elements to preserve relational structure according to analysis"
   ]
  },
  {
   "cell_type": "code",
   "execution_count": null,
   "id": "4f675d1d",
   "metadata": {},
   "outputs": [],
   "source": [
    "import re"
   ]
  },
  {
   "cell_type": "code",
   "execution_count": null,
   "id": "10667643",
   "metadata": {},
   "outputs": [],
   "source": [
    "# add empty elements where there are gaps before, between, and after columnIndex values in list_column_index\n",
    "def add_empty_elements(list_column_index, list_text_sorted, ncols):\n",
    "    \n",
    "    list_text_sorted_with_empties=[]\n",
    "    \n",
    "    empty_value = None # placeholder value\n",
    "    \n",
    "    for i in range(ncols):\n",
    "        if i in list_column_index:\n",
    "            index = list_column_index.index(i)\n",
    "            text = list_text_sorted[index]\n",
    "            list_text_sorted_with_empties.append(text)\n",
    "        else:\n",
    "            list_text_sorted_with_empties.append(empty_value)\n",
    "                \n",
    "    return list_text_sorted_with_empties"
   ]
  },
  {
   "cell_type": "markdown",
   "id": "4904e665",
   "metadata": {},
   "source": [
    "### Remove CSV files"
   ]
  },
  {
   "cell_type": "code",
   "execution_count": null,
   "id": "3637cfc5",
   "metadata": {},
   "outputs": [],
   "source": [
    "!rm -rf {output_file_prefix}/{output_file_dir_name}/*.csv"
   ]
  },
  {
   "cell_type": "markdown",
   "id": "b7aa74f9",
   "metadata": {},
   "source": [
    "### Parse JSON analysis to CSV"
   ]
  },
  {
   "cell_type": "code",
   "execution_count": null,
   "id": "1db4693e",
   "metadata": {},
   "outputs": [],
   "source": [
    "# set parameters\n",
    "output_file_prefix_list=!pwd\n",
    "output_file_prefix=output_file_prefix_list[0]\n",
    "output_file_dir_name=\"CSV_output\""
   ]
  },
  {
   "cell_type": "code",
   "execution_count": null,
   "id": "eb4d32cf",
   "metadata": {},
   "outputs": [],
   "source": [
    "!mkdir -p {output_file_prefix}/{output_file_dir_name}"
   ]
  },
  {
   "cell_type": "code",
   "execution_count": null,
   "id": "bfda5b9f",
   "metadata": {},
   "outputs": [],
   "source": [
    "import json\n",
    "  \n",
    "# Opening JSON file\n",
    "f = open(json_path)\n",
    "  \n",
    "# returns JSON object as \n",
    "# a dictionary\n",
    "data = json.load(f)\n",
    "  \n",
    "# Closing file\n",
    "f.close()"
   ]
  },
  {
   "cell_type": "code",
   "execution_count": null,
   "id": "7b385a26",
   "metadata": {},
   "outputs": [],
   "source": [
    "def json_tables_parse(table, output_file, ncols, header):\n",
    "    if header:\n",
    "        row_type = \"headerRows\"\n",
    "        \n",
    "        # header row is empty -> True, else False\n",
    "        if not table[row_type]:\n",
    "            return True\n",
    "    else:\n",
    "        row_type = \"bodyRows\"\n",
    "    \n",
    "    count=0 # 0411\n",
    "    \n",
    "    for r in table[row_type]:\n",
    "        row_text=[]\n",
    "        row_column_index=[]\n",
    "\n",
    "        for cell in r[\"cells\"]:\n",
    "            text = cell[\"text\"]\n",
    "                \n",
    "            # Sort the cells based on columnIndex\n",
    "            row_text.append(text)\n",
    "            row_column_index.append(cell[\"columnIndex\"])\n",
    "            \n",
    "        row_text_sorted = [x for _, x in sorted(zip(row_column_index,row_text))]\n",
    "        row_column_index_sorted = sorted(row_column_index)\n",
    "        \n",
    "        row_text_sorted = add_empty_elements(row_column_index_sorted, row_text_sorted, ncols)\n",
    "\n",
    "        with open(output_file, \"a\", encoding=\"utf-8\") as f:\n",
    "            write = csv.writer(f)\n",
    "            if count==0: # 0411\n",
    "                arr=[]\n",
    "                for i in range(0,ncols):\n",
    "                    arr.append(None)\n",
    "                write.writerow(arr)\n",
    "                count+=1\n",
    "            write.writerow(row_text_sorted)"
   ]
  },
  {
   "cell_type": "code",
   "execution_count": null,
   "id": "9556d7ec",
   "metadata": {},
   "outputs": [],
   "source": [
    "import csv\n",
    "filename_prefix=\"mydoc_\"\n",
    "\n",
    "for page in data[\"pages\"]:\n",
    "    page_number=data[\"pages\"].index(page)\n",
    "    \n",
    "    for table in page[\"tables\"]:\n",
    "        table_number=page[\"tables\"].index(table)\n",
    "        ncols = table[\"columnCount\"]\n",
    "        \n",
    "        #print(f\"p_{page_number}_t_{table_number}\")\n",
    "        \n",
    "        output_file = f\"{output_file_prefix}/{output_file_dir_name}/{filename_prefix}p_{page_number}_t_{table_number}.csv\"\n",
    "        \n",
    "        header_row_is_empty = json_tables_parse(table, output_file, ncols, True)\n",
    "        json_tables_parse(table, output_file, ncols, False)"
   ]
  },
  {
   "cell_type": "code",
   "execution_count": null,
   "id": "85e8b948",
   "metadata": {},
   "outputs": [],
   "source": [
    "conn = {\n",
    "    \"user_name\": \"\",\n",
    "    \"password\": \"\",\n",
    "    \"service_name\": \"\",\n",
    "    \"wallet_location\": \"\"\n",
    "}"
   ]
  },
  {
   "cell_type": "code",
   "execution_count": null,
   "id": "d5733938",
   "metadata": {},
   "outputs": [],
   "source": [
    "def listdir_nohidden(path):\n",
    "    for f in os.listdir(path):\n",
    "        if not f.startswith('.'):\n",
    "            yield f"
   ]
  },
  {
   "cell_type": "code",
   "execution_count": null,
   "id": "73769a34",
   "metadata": {},
   "outputs": [],
   "source": [
    "import pandas as pd"
   ]
  },
  {
   "cell_type": "code",
   "execution_count": null,
   "id": "92f79438",
   "metadata": {},
   "outputs": [],
   "source": [
    "directory=f\"{output_file_prefix}/{output_file_dir_name}\"\n",
    "count=0\n",
    "for f in listdir_nohidden(directory):\n",
    "    count+=1\n",
    "    \n",
    "    # create file path\n",
    "    filepath = os.path.join(directory, f)\n",
    "    \n",
    "    # read csv as dataframe from filepath\n",
    "    df = pd.read_csv(filepath, sep=',', header=0, index_col=False,error_bad_lines=False)\n",
    "    \n",
    "    # create a table name from the file name\n",
    "    tablename = os.path.splitext(f)[0]\n",
    "    \n",
    "    print(f\"{count}:{filepath}:{tablename}\")\n",
    "    \n",
    "    # push table to ADW from dataframe\n",
    "    df.ads.to_sql(tablename,connection_parameters=conn,if_exists='replace')"
   ]
  },
  {
   "cell_type": "markdown",
   "id": "a6919e97",
   "metadata": {},
   "source": [
    "### SQL query for dropping all tables with prefix MYDOC_P_"
   ]
  },
  {
   "cell_type": "raw",
   "id": "d921b71d",
   "metadata": {},
   "source": [
    "BEGIN\n",
    "  FOR c IN ( SELECT table_name FROM user_tables WHERE table_name LIKE 'MYDOC_P_%' )\n",
    "  LOOP\n",
    "    EXECUTE IMMEDIATE 'DROP TABLE ' || c.table_name;\n",
    "  END LOOP;\n",
    "END;"
   ]
  },
  {
   "cell_type": "code",
   "execution_count": null,
   "id": "8cda8735",
   "metadata": {},
   "outputs": [],
   "source": []
  }
 ],
 "metadata": {
  "kernelspec": {
   "display_name": "Python [conda env:dataexpl_p37_cpu_v3]",
   "language": "python",
   "name": "conda-env-dataexpl_p37_cpu_v3-py"
  },
  "language_info": {
   "codemirror_mode": {
    "name": "ipython",
    "version": 3
   },
   "file_extension": ".py",
   "mimetype": "text/x-python",
   "name": "python",
   "nbconvert_exporter": "python",
   "pygments_lexer": "ipython3",
   "version": "3.7.12"
  }
 },
 "nbformat": 4,
 "nbformat_minor": 5
}
