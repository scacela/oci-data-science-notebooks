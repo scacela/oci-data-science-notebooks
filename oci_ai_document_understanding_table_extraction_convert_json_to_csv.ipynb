{
 "cells": [
  {
   "cell_type": "markdown",
   "id": "561ae5a7",
   "metadata": {},
   "source": [
    "### OCI Data Science - Useful Tips\n",
    "<details>\n",
    "<summary><font size=\"2\">Check for Public Internet Access</font></summary>\n",
    "\n",
    "```python\n",
    "import requests\n",
    "response = requests.get(\"https://oracle.com\")\n",
    "assert response.status_code==200, \"Internet connection failed\"\n",
    "```\n",
    "</details>\n",
    "<details>\n",
    "<summary><font size=\"2\">Helpful Documentation </font></summary>\n",
    "<ul><li><a href=\"https://docs.cloud.oracle.com/en-us/iaas/data-science/using/data-science.htm\">Data Science Service Documentation</a></li>\n",
    "<li><a href=\"https://docs.cloud.oracle.com/iaas/tools/ads-sdk/latest/index.html\">ADS documentation</a></li>\n",
    "</ul>\n",
    "</details>\n",
    "<details>\n",
    "<summary><font size=\"2\">Typical Cell Imports and Settings for ADS</font></summary>\n",
    "\n",
    "```python\n",
    "%load_ext autoreload\n",
    "%autoreload 2\n",
    "%matplotlib inline\n",
    "\n",
    "import warnings\n",
    "warnings.filterwarnings('ignore')\n",
    "\n",
    "import logging\n",
    "logging.basicConfig(format='%(levelname)s:%(message)s', level=logging.ERROR)\n",
    "\n",
    "import ads\n",
    "from ads.dataset.factory import DatasetFactory\n",
    "from ads.automl.provider import OracleAutoMLProvider\n",
    "from ads.automl.driver import AutoML\n",
    "from ads.evaluations.evaluator import ADSEvaluator\n",
    "from ads.common.data import ADSData\n",
    "from ads.explanations.explainer import ADSExplainer\n",
    "from ads.explanations.mlx_global_explainer import MLXGlobalExplainer\n",
    "from ads.explanations.mlx_local_explainer import MLXLocalExplainer\n",
    "from ads.catalog.model import ModelCatalog\n",
    "from ads.common.model_artifact import ModelArtifact\n",
    "```\n",
    "</details>\n",
    "<details>\n",
    "<summary><font size=\"2\">Useful Environment Variables</font></summary>\n",
    "\n",
    "```python\n",
    "import os\n",
    "print(os.environ[\"NB_SESSION_COMPARTMENT_OCID\"])\n",
    "print(os.environ[\"PROJECT_OCID\"])\n",
    "print(os.environ[\"USER_OCID\"])\n",
    "print(os.environ[\"TENANCY_OCID\"])\n",
    "print(os.environ[\"NB_REGION\"])\n",
    "```\n",
    "</details>"
   ]
  },
  {
   "cell_type": "markdown",
   "id": "19d70bee",
   "metadata": {},
   "source": [
    "### Use conda environment `dataexpl_p37_cpu_v3`"
   ]
  },
  {
   "cell_type": "markdown",
   "id": "42e2ea0e",
   "metadata": {},
   "source": [
    "### Ensure correct package versions"
   ]
  },
  {
   "cell_type": "code",
   "execution_count": null,
   "id": "7f1e8d16",
   "metadata": {},
   "outputs": [],
   "source": [
    "!pip show oci"
   ]
  },
  {
   "cell_type": "code",
   "execution_count": null,
   "id": "283b02d8",
   "metadata": {},
   "outputs": [],
   "source": [
    "!pip install oci -U"
   ]
  },
  {
   "cell_type": "code",
   "execution_count": null,
   "id": "fc0e4313",
   "metadata": {},
   "outputs": [],
   "source": [
    "!pip show oci-cli"
   ]
  },
  {
   "cell_type": "code",
   "execution_count": null,
   "id": "252bb9d6",
   "metadata": {},
   "outputs": [],
   "source": [
    "!pip install oci-cli -U"
   ]
  },
  {
   "cell_type": "code",
   "execution_count": null,
   "id": "c926e6ba",
   "metadata": {},
   "outputs": [],
   "source": [
    "!pip instsall oracle-ads -U"
   ]
  },
  {
   "cell_type": "code",
   "execution_count": null,
   "id": "1000cbc6",
   "metadata": {},
   "outputs": [],
   "source": [
    "import os\n",
    "import ads"
   ]
  },
  {
   "cell_type": "code",
   "execution_count": null,
   "id": "3d1789f0",
   "metadata": {},
   "outputs": [],
   "source": [
    "ads.hello()"
   ]
  },
  {
   "cell_type": "markdown",
   "id": "dab5aac6",
   "metadata": {},
   "source": [
    "### Set parameters for API call"
   ]
  },
  {
   "cell_type": "code",
   "execution_count": null,
   "id": "3ada89e7",
   "metadata": {},
   "outputs": [],
   "source": [
    "input_object_storage_namespace_name=\n",
    "output_object_storage_namespace_name=\n",
    "input_bucket_name=\n",
    "output_bucket_name=input_bucket_name\n",
    "output_object_storage_prefix=\"Document_Analysis\"\n",
    "object_name=\n",
    "compartment_id=os.environ[\"NB_SESSION_COMPARTMENT_OCID\"]\n",
    "display_name=\"document_analysis_processor_job\"\n",
    "language=\"en\"\n",
    "opc_retry_token=None\n",
    "opc_request_id=None\n",
    "document_type=\"BANK_STATEMENT\""
   ]
  },
  {
   "cell_type": "markdown",
   "id": "4a2cb739",
   "metadata": {},
   "source": [
    "### API call for generating document analysis"
   ]
  },
  {
   "cell_type": "code",
   "execution_count": null,
   "id": "84270f38",
   "metadata": {},
   "outputs": [],
   "source": [
    "import oci\n",
    "\n",
    "# Refer to\n",
    "# https://docs.cloud.oracle.com/en-us/iaas/Content/API/Concepts/sdkconfig.htm#SDK_and_CLI_Configuration_File\n",
    "# for more info\n",
    "ads.set_auth(auth='resource_principal')\n",
    "rps = oci.auth.signers.get_resource_principals_signer()\n",
    "\n",
    "# Initialize service client with resource principal authentication\n",
    "ai_document_client = oci.ai_document.AIServiceDocumentClient(config={}, signer=rps)\n",
    "\n",
    "\n",
    "# Send the request to service, some parameters are not required, see API\n",
    "# doc for more info\n",
    "create_processor_job_response = ai_document_client.create_processor_job(\n",
    "    create_processor_job_details=oci.ai_document.models.CreateProcessorJobDetails(\n",
    "        input_location=oci.ai_document.models.ObjectStorageLocations(\n",
    "            source_type=\"OBJECT_STORAGE_LOCATIONS\",\n",
    "            object_locations=[\n",
    "                oci.ai_document.models.ObjectLocation(\n",
    "                    namespace_name=input_object_storage_namespace_name,\n",
    "                    bucket_name=input_bucket_name,\n",
    "                    object_name=object_name)]),\n",
    "        output_location=oci.ai_document.models.OutputLocation(\n",
    "            namespace_name=output_object_storage_namespace_name,\n",
    "            bucket_name=output_bucket_name,\n",
    "            prefix=output_object_storage_prefix),\n",
    "        compartment_id=compartment_id,\n",
    "        processor_config=oci.ai_document.models.GeneralProcessorConfig(\n",
    "            processor_type=\"GENERAL\",\n",
    "            features=[oci.ai_document.models.DocumentTextExtractionFeature(\n",
    "                    feature_type=\"LANGUAGE_CLASSIFICATION\",generate_searchable_pdf=True),\n",
    "                     oci.ai_document.models.DocumentTextExtractionFeature(\n",
    "                    feature_type=\"TABLE_EXTRACTION\",generate_searchable_pdf=True),\n",
    "                     oci.ai_document.models.DocumentTextExtractionFeature(\n",
    "                    feature_type=\"TEXT_EXTRACTION\",generate_searchable_pdf=True),\n",
    "                     oci.ai_document.models.DocumentTextExtractionFeature(\n",
    "                    feature_type=\"KEY_VALUE_EXTRACTION\",generate_searchable_pdf=True),\n",
    "                     oci.ai_document.models.DocumentTextExtractionFeature(\n",
    "                    feature_type=\"DOCUMENT_CLASSIFICATION\",generate_searchable_pdf=True)],\n",
    "            document_type=document_type,\n",
    "            is_zip_output_enabled=True,\n",
    "            language=language),\n",
    "        display_name=display_name),\n",
    "    opc_retry_token=opc_retry_token,\n",
    "    opc_request_id=opc_request_id)\n",
    "\n",
    "# Get the data from response\n",
    "print(create_processor_job_response.data)"
   ]
  },
  {
   "cell_type": "code",
   "execution_count": null,
   "id": "9d21692d",
   "metadata": {},
   "outputs": [],
   "source": [
    "create_processor_job_id = create_processor_job_response.data.id"
   ]
  },
  {
   "cell_type": "markdown",
   "id": "628c03b8",
   "metadata": {},
   "source": [
    "### Start here if document analysis has already completed and variables are no longer stored in memory"
   ]
  },
  {
   "cell_type": "code",
   "execution_count": null,
   "id": "0f1a66b9",
   "metadata": {},
   "outputs": [],
   "source": [
    "create_processor_job_id = # use create_processor_job_response.data.id from output of API call"
   ]
  },
  {
   "cell_type": "code",
   "execution_count": null,
   "id": "7b2f7bbd",
   "metadata": {},
   "outputs": [],
   "source": [
    "download_dir_list=!pwd\n",
    "download_dir=download_dir_list[0]"
   ]
  },
  {
   "cell_type": "code",
   "execution_count": null,
   "id": "334417d0",
   "metadata": {},
   "outputs": [],
   "source": [
    "download_dir"
   ]
  },
  {
   "cell_type": "markdown",
   "id": "9e1cec1f",
   "metadata": {},
   "source": [
    "### OCI-CLI call for downloading the document analysis"
   ]
  },
  {
   "cell_type": "code",
   "execution_count": null,
   "id": "40e69574",
   "metadata": {},
   "outputs": [],
   "source": [
    "!oci --auth resource_principal os object bulk-download -bn {output_bucket_name} --overwrite --namespace {output_object_storage_namespace_name} --prefix {output_object_storage_prefix}/{create_processor_job_id} --download-dir {download_dir}\n"
   ]
  },
  {
   "cell_type": "markdown",
   "id": "e475c33d",
   "metadata": {},
   "source": [
    "### Show where JSON analysis is"
   ]
  },
  {
   "cell_type": "code",
   "execution_count": null,
   "id": "642acd9c",
   "metadata": {},
   "outputs": [],
   "source": [
    "json_path_list = !ls {download_dir}/{output_object_storage_prefix}/{create_processor_job_id}/{output_object_storage_namespace_name}_{output_bucket_name}/results/*.json\n",
    "json_path = json_path_list[0]"
   ]
  },
  {
   "cell_type": "code",
   "execution_count": null,
   "id": "e5287df9",
   "metadata": {},
   "outputs": [],
   "source": [
    "json_path"
   ]
  },
  {
   "cell_type": "markdown",
   "id": "f3611d45",
   "metadata": {},
   "source": [
    "### Define function\n",
    "#### Add empty elements to preserve relational structure according to analysis"
   ]
  },
  {
   "cell_type": "code",
   "execution_count": null,
   "id": "cf430a94",
   "metadata": {},
   "outputs": [],
   "source": [
    "# add empty elements where there are gaps before, between, and after columnIndex values in list_column_index\n",
    "def add_empty_elements(list_column_index, list_text_sorted, list_column_index_header=None):\n",
    "    \n",
    "    list_text_sorted_with_empties=[]\n",
    "    # empty_value=\"INSERTED_VALUE_SC_CONFORM_TO_HEADER\"\n",
    "    empty_value=None\n",
    "\n",
    "    for i in range(len(list_column_index)):\n",
    "        curr_element=list_column_index[i]\n",
    "        # print(\"index of curr_element, curr_element, list_text_sorted[i]: \", i, curr_element, list_text_sorted[i])\n",
    "        \n",
    "        # if last element\n",
    "        if i==len(list_column_index)-1:\n",
    "            \n",
    "            # if first element\n",
    "            if i==0:\n",
    "                # add empties at beginning\n",
    "                for j in range(0,curr_element):\n",
    "                    list_text_sorted_with_empties.append(empty_value)\n",
    "            \n",
    "            # add current element\n",
    "            list_text_sorted_with_empties.append(curr_element_text)\n",
    "            \n",
    "            # add empties at the end to conform number of body cells to number of header cells\n",
    "            if list_column_index_header:\n",
    "                for j in range(curr_element,max(list_column_index_header)):\n",
    "                    list_text_sorted_with_empties.append(empty_value)\n",
    "        \n",
    "        else:\n",
    "            \n",
    "            # if first element\n",
    "            if i==0:\n",
    "                # add empties at beginning\n",
    "                for j in range(0,curr_element):\n",
    "                    list_text_sorted_with_empties.append(empty_value)\n",
    "                    \n",
    "            # add current element\n",
    "            list_text_sorted_with_empties.append(curr_element_text)\n",
    "            \n",
    "            # add empties between current element and next element\n",
    "            diff=list_column_index[i+1]-curr_element\n",
    "            for j in range(1,diff):\n",
    "                list_text_sorted_with_empties.append(empty_value)\n",
    "                \n",
    "    return list_text_sorted_with_empties"
   ]
  },
  {
   "cell_type": "markdown",
   "id": "d0387072",
   "metadata": {},
   "source": [
    "### Parse JSON analysis to CSV"
   ]
  },
  {
   "cell_type": "code",
   "execution_count": null,
   "id": "608873c9",
   "metadata": {},
   "outputs": [],
   "source": [
    "# set parameters\n",
    "output_file_prefix_list=!pwd\n",
    "output_file_prefix=output_file_prefix_list[0]\n",
    "output_file_dir_name=\"CSV_output\"\n",
    "output_file_full_path=f\"{output_file_prefix}/{output_file_dir_name}\""
   ]
  },
  {
   "cell_type": "code",
   "execution_count": null,
   "id": "86584acf",
   "metadata": {},
   "outputs": [],
   "source": [
    "!mkdir -p {output_file_full_path}"
   ]
  },
  {
   "cell_type": "code",
   "execution_count": null,
   "id": "26e3f664",
   "metadata": {},
   "outputs": [],
   "source": [
    "import csv\n",
    "\n",
    "for page in data[\"pages\"]:\n",
    "    page_number=data[\"pages\"].index(page)\n",
    "    \n",
    "    for table in page[\"tables\"]:\n",
    "        table_number=page[\"tables\"].index(table)\n",
    "        \n",
    "        # print(f\"p_{page_number}_t_{table_number}\")\n",
    "        \n",
    "        output_file = f\"{output_file_full_path}/p_{page_number}_t_{table_number}.csv\"\n",
    "        \n",
    "        for headerRow in table[\"headerRows\"]:\n",
    "            row=[]\n",
    "            row_text=[]\n",
    "            row_column_index=[]\n",
    "            \n",
    "            for cell in headerRow[\"cells\"]:\n",
    "                # Sort the cells based on columnIndex\n",
    "                row_text.append(cell[\"text\"])\n",
    "                row_column_index.append(cell[\"columnIndex\"])\n",
    "                \n",
    "            row_text_sorted = [x for _, x in sorted(zip(row_column_index,row_text))]\n",
    "            row_column_index_sorted_h = sorted(row_column_index)\n",
    "            \n",
    "            row_text_sorted = add_empty_elements(row_column_index_sorted_h, row_text_sorted)\n",
    "                \n",
    "            with open(output_file, \"a\", encoding=\"utf-8\") as f:\n",
    "                write = csv.writer(f)\n",
    "                write.writerow(row_text_sorted)\n",
    "        \n",
    "        for bodyRow in table[\"bodyRows\"]:\n",
    "            row=[]\n",
    "            row_text=[]\n",
    "            row_column_index=[]\n",
    "            \n",
    "            for cell in bodyRow[\"cells\"]:\n",
    "                # Sort the cells based on columnIndex\n",
    "                row_text.append(cell[\"text\"])\n",
    "                row_column_index.append(cell[\"columnIndex\"])\n",
    "                \n",
    "            row_text_sorted = [x for _, x in sorted(zip(row_column_index,row_text))]\n",
    "            row_column_index_sorted = sorted(row_column_index)\n",
    "                \n",
    "            row_text_sorted = add_empty_elements(row_column_index_sorted, row_text_sorted, row_column_index_sorted_h)\n",
    "                \n",
    "            with open(output_file, \"a\", encoding=\"utf-8\") as f:\n",
    "                write = csv.writer(f)\n",
    "                write.writerows([row_text_sorted])"
   ]
  },
  {
   "cell_type": "markdown",
   "id": "2a86ddc2",
   "metadata": {},
   "source": [
    "### Remove CSV files"
   ]
  },
  {
   "cell_type": "code",
   "execution_count": null,
   "id": "6f4abe45",
   "metadata": {},
   "outputs": [],
   "source": [
    "!rm -rf {output_file_full_path}/*.csv"
   ]
  }
 ],
 "metadata": {
  "kernelspec": {
   "display_name": "Python [conda env:dataexpl_p37_cpu_v3]",
   "language": "python",
   "name": "conda-env-dataexpl_p37_cpu_v3-py"
  },
  "language_info": {
   "codemirror_mode": {
    "name": "ipython",
    "version": 3
   },
   "file_extension": ".py",
   "mimetype": "text/x-python",
   "name": "python",
   "nbconvert_exporter": "python",
   "pygments_lexer": "ipython3",
   "version": "3.7.12"
  }
 },
 "nbformat": 4,
 "nbformat_minor": 5
}
